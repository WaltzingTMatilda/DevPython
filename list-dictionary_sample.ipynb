{
 "cells": [
  {
   "cell_type": "code",
   "execution_count": 1,
   "metadata": {},
   "outputs": [
    {
     "name": "stdout",
     "output_type": "stream",
     "text": [
      "red green blue blue green blue\n",
      "red 1\n",
      "green 2\n",
      "blue 3\n"
     ]
    }
   ],
   "source": [
    "#同単語をカウントし、表示\n",
    "#in:red green blue blue green blue\n",
    "#out:red 1 green 2 blue 3\n",
    "input_words = []\n",
    "master_words = []\n",
    "input_words = input().rstrip().split(\" \")\n",
    "master_words = list(dict.fromkeys(input_words))\n",
    "for i in master_words:\n",
    "    print(i + \" \" + str(input_words.count(i)))"
   ]
  },
  {
   "cell_type": "code",
   "execution_count": 2,
   "metadata": {},
   "outputs": [
    {
     "name": "stdout",
     "output_type": "stream",
     "text": [
      "blue\n",
      "red green blue blue green blue\n",
      "3\n"
     ]
    }
   ],
   "source": [
    "#文字列の重複カウント1\n",
    "ans_count = 0\n",
    "key_words = input().rstrip()\n",
    "len_words= len(key_words)\n",
    "#read line&lenth\n",
    "line = input().rstrip()\n",
    "num_words = len(line)\n",
    "for iCnt in range(0,num_words):\n",
    "    if line[iCnt] == key_words[0]:\n",
    "        comp_words = line[iCnt:iCnt+len_words]\n",
    "        if comp_words == key_words:\n",
    "            ans_count += 1\n",
    "print(str(ans_count))"
   ]
  },
  {
   "cell_type": "code",
   "execution_count": 3,
   "metadata": {},
   "outputs": [
    {
     "name": "stdout",
     "output_type": "stream",
     "text": [
      "green\n",
      "red green blue blue green blue\n",
      "2\n"
     ]
    }
   ],
   "source": [
    "#文字列の重複カウント2\n",
    "pattern = input()\n",
    "string = input()\n",
    "result = 0\n",
    "for i in range(len(string) - len(pattern) + 1):\n",
    "    portion = string[i:i + len(pattern)]\n",
    "    if portion == pattern:\n",
    "        result += 1\n",
    "print(result)"
   ]
  },
  {
   "cell_type": "code",
   "execution_count": 4,
   "metadata": {},
   "outputs": [
    {
     "name": "stdout",
     "output_type": "stream",
     "text": [
      "3\n",
      "G 0\n",
      "S 3\n",
      "E -2\n",
      "E\n",
      "G\n",
      "S\n"
     ]
    }
   ],
   "source": [
    "#文字と整数の組のソート\n",
    "#in:3/G 0/S 3/E -2\n",
    "#out:E/G/S\n",
    "num = int(input().rstrip())\n",
    "list = []\n",
    "dic = {}\n",
    "#input letter and number\n",
    "for iCnt in range(0,num):\n",
    "    element = input().rstrip().split(\" \")\n",
    "    dic.setdefault(int(element[1]),element[0])\n",
    "    list.append(element[1])\n",
    "#sort    \n",
    "list = [int(s) for s in list]\n",
    "list.sort()\n",
    "#output as upper number\n",
    "for key_num in list:\n",
    "    print(str(dic.get(key_num,0)))"
   ]
  },
  {
   "cell_type": "code",
   "execution_count": 5,
   "metadata": {},
   "outputs": [
    {
     "name": "stdout",
     "output_type": "stream",
     "text": [
      "4\n",
      "A 9\n",
      "B 8\n",
      "C 7\n",
      "D 6\n",
      "D\n",
      "C\n",
      "B\n",
      "A\n"
     ]
    }
   ],
   "source": [
    "#文字と整数の組のソート2\n",
    "num = int(input())\n",
    "inputs = {}\n",
    "for i in range(num):\n",
    "    tmp = input().split()\n",
    "    inputs[int(tmp[1])] = tmp[0]\n",
    "inputs = sorted(inputs.items())\n",
    "for i in inputs:\n",
    "    print(i[1])"
   ]
  },
  {
   "cell_type": "code",
   "execution_count": 11,
   "metadata": {},
   "outputs": [
    {
     "name": "stdout",
     "output_type": "stream",
     "text": [
      "3\n",
      "A 4\n",
      "B 5\n",
      "B 6\n"
     ]
    },
    {
     "ename": "TypeError",
     "evalue": "'list' object is not callable",
     "output_type": "error",
     "traceback": [
      "\u001b[0;31m---------------------------------------------------------------------------\u001b[0m",
      "\u001b[0;31mTypeError\u001b[0m                                 Traceback (most recent call last)",
      "\u001b[0;32m<ipython-input-11-8d126d1226b6>\u001b[0m in \u001b[0;36m<module>\u001b[0;34m\u001b[0m\n\u001b[1;32m     13\u001b[0m     \u001b[0mlist_num\u001b[0m\u001b[0;34m.\u001b[0m\u001b[0mappend\u001b[0m\u001b[0;34m(\u001b[0m\u001b[0melement\u001b[0m\u001b[0;34m[\u001b[0m\u001b[0;36m1\u001b[0m\u001b[0;34m]\u001b[0m\u001b[0;34m)\u001b[0m\u001b[0;34m\u001b[0m\u001b[0;34m\u001b[0m\u001b[0m\n\u001b[1;32m     14\u001b[0m \u001b[0;31m#erease the same\u001b[0m\u001b[0;34m\u001b[0m\u001b[0;34m\u001b[0m\u001b[0;34m\u001b[0m\u001b[0m\n\u001b[0;32m---> 15\u001b[0;31m \u001b[0mlist_idx\u001b[0m \u001b[0;34m=\u001b[0m \u001b[0mlist\u001b[0m\u001b[0;34m(\u001b[0m\u001b[0mset\u001b[0m\u001b[0;34m(\u001b[0m\u001b[0mlist_str\u001b[0m\u001b[0;34m)\u001b[0m\u001b[0;34m)\u001b[0m\u001b[0;34m\u001b[0m\u001b[0;34m\u001b[0m\u001b[0m\n\u001b[0m\u001b[1;32m     16\u001b[0m \u001b[0mlist_num\u001b[0m \u001b[0;34m=\u001b[0m \u001b[0;34m[\u001b[0m\u001b[0mint\u001b[0m\u001b[0;34m(\u001b[0m\u001b[0ms\u001b[0m\u001b[0;34m)\u001b[0m \u001b[0;32mfor\u001b[0m \u001b[0ms\u001b[0m \u001b[0;32min\u001b[0m \u001b[0mlist_num\u001b[0m\u001b[0;34m]\u001b[0m\u001b[0;34m\u001b[0m\u001b[0;34m\u001b[0m\u001b[0m\n\u001b[1;32m     17\u001b[0m \u001b[0;32mfor\u001b[0m \u001b[0miCnt\u001b[0m \u001b[0;32min\u001b[0m \u001b[0mlist_idx\u001b[0m\u001b[0;34m:\u001b[0m\u001b[0;34m\u001b[0m\u001b[0;34m\u001b[0m\u001b[0m\n",
      "\u001b[0;31mTypeError\u001b[0m: 'list' object is not callable"
     ]
    }
   ],
   "source": [
    "#文字と整数の組のソートpart2-1\n",
    "#in:7/A 1/D 6/C 2/G 4/B 70/A 10/B 5\n",
    "num = int(input().rstrip())\n",
    "list_str = []\n",
    "list_num = []\n",
    "list_idx = []\n",
    "list_ans = []\n",
    "dic = {}\n",
    "#input letter and number\n",
    "for iCnt in range(0,num):\n",
    "    element = input().rstrip().split(\" \")\n",
    "    list_str.append(element[0])\n",
    "    list_num.append(element[1])\n",
    "#erease the same\n",
    "list_idx = list(set(list_str))\n",
    "list_num = [int(s) for s in list_num]\n",
    "for iCnt in list_idx: \n",
    "    for jCnt in range(0,num):\n",
    "        if iCnt == list_str[jCnt]:\n",
    "            num_idx += list_num[jCnt]\n",
    "    dic.setdefault(num_idx,iCnt)\n",
    "    list_ans.append(num_idx)\n",
    "#sort in reverse and output as upper number\n",
    "list_ans.sort(reverse=True)\n",
    "for key_num in list_ans:\n",
    "    print(str(dic.get(key_num,0)) + str(\" \") + str(key_num))"
   ]
  },
  {
   "cell_type": "code",
   "execution_count": 10,
   "metadata": {},
   "outputs": [
    {
     "name": "stdout",
     "output_type": "stream",
     "text": [
      "3\n",
      "A 4\n",
      "B 3\n",
      "B 5\n",
      "B 8\n",
      "A 4\n"
     ]
    }
   ],
   "source": [
    "#文字と整数の組のソートpart2-2\n",
    "num = int(input())\n",
    "inputs = {}\n",
    "result = {}\n",
    "for i in range(num):\n",
    "    tmp = input().split()\n",
    "    exist = False\n",
    "    for (key, value) in inputs.items():\n",
    "        if key == tmp[0]:\n",
    "            exist = True\n",
    "    if exist:\n",
    "        inputs[tmp[0]] = inputs[tmp[0]] + int(tmp[1])\n",
    "    else:\n",
    "        inputs[tmp[0]] = int(tmp[1])\n",
    "# ソート用にkeyとvalueを反転させた辞書を作る\n",
    "for (key, value) in inputs.items():\n",
    "    result[value] = key\n",
    "result = sorted(result.items(), reverse=True)\n",
    "for i in result:\n",
    "    print(i[1] + ' ' + str(i[0]))"
   ]
  },
  {
   "cell_type": "code",
   "execution_count": 12,
   "metadata": {},
   "outputs": [
    {
     "name": "stdout",
     "output_type": "stream",
     "text": [
      "3\n",
      "gen A\n",
      "bin O\n",
      "soku AB\n",
      "gen A\n",
      "bin O\n",
      "soku AB\n"
     ]
    }
   ],
   "source": [
    "#ユーザーの血液型のデータ処理1\n",
    "#in:5/Kyoko B/Rio O/Tsubame AB/KurodaSensei A/NekoSensei A\n",
    "num = int(input().rstrip())\n",
    "list = []\n",
    "dic = {}\n",
    "#input letter and number\n",
    "for iCnt in range(0,num):\n",
    "    element = input().rstrip().split(\" \")\n",
    "    list.append(element[0])\n",
    "    dic.setdefault(element[0],element[1])\n",
    "#output as keyword\n",
    "for key_name in list:\n",
    "    print(str(key_name) + str(\" \") + str(dic.get(key_name,0)) )"
   ]
  },
  {
   "cell_type": "code",
   "execution_count": 13,
   "metadata": {},
   "outputs": [
    {
     "name": "stdout",
     "output_type": "stream",
     "text": [
      "5\n",
      "john A\n",
      "ken B\n",
      "gaga AB\n",
      "mary O\n",
      "mick A\n",
      "john A\n",
      "ken B\n",
      "gaga AB\n",
      "mary O\n",
      "mick A\n"
     ]
    }
   ],
   "source": [
    "#ユーザーの血液型のデータ処理2\n",
    "n = int(input())\n",
    "dictionary = {}\n",
    "for i in range(n):\n",
    "    tmp = input().split()\n",
    "    dictionary[tmp[0]] = tmp[1]\n",
    "for user, blood in dictionary.items():\n",
    "    print(user + ' ' + blood)"
   ]
  },
  {
   "cell_type": "code",
   "execution_count": 14,
   "metadata": {},
   "outputs": [
    {
     "name": "stdout",
     "output_type": "stream",
     "text": [
      "A\n",
      "A Good\n",
      "B Very Good\n",
      "C No Good\n",
      "AB No Way!\n",
      "Good\n"
     ]
    }
   ],
   "source": [
    "#in:B/A Good/B VeryGood/O Yavai/AB VeryYavai\n",
    "dic1 = {}\n",
    "#input1\n",
    "key_blood = input().rstrip()\n",
    "try:\n",
    "    for iCnt in range(0,4):\n",
    "        element = input().rstrip().split(\" \")\n",
    "        dic1.setdefault(element[0],element[1])\n",
    "except EOFError:\n",
    "    pass\n",
    "print(dic1.get(key_blood,0))"
   ]
  },
  {
   "cell_type": "code",
   "execution_count": 17,
   "metadata": {},
   "outputs": [
    {
     "name": "stdout",
     "output_type": "stream",
     "text": [
      "A A Good B VeryGood O Yavai AB VeryYavai\n"
     ]
    }
   ],
   "source": [
    "import sys\n",
    "\n",
    "target = input()\n",
    "dictionary = {}\n",
    "while True:\n",
    "    tmp = sys.stdin.readline()\n",
    "    if tmp:\n",
    "        tmp = tmp.split()\n",
    "        dictionary[tmp[0]] = tmp[1]\n",
    "    else:\n",
    "        break\n",
    "for blood, fortune in dictionary.items():\n",
    "    if blood == target:\n",
    "        print(fortune)\n",
    "        break"
   ]
  },
  {
   "cell_type": "code",
   "execution_count": null,
   "metadata": {},
   "outputs": [],
   "source": []
  }
 ],
 "metadata": {
  "kernelspec": {
   "display_name": "Python 3",
   "language": "python",
   "name": "python3"
  },
  "language_info": {
   "codemirror_mode": {
    "name": "ipython",
    "version": 3
   },
   "file_extension": ".py",
   "mimetype": "text/x-python",
   "name": "python",
   "nbconvert_exporter": "python",
   "pygments_lexer": "ipython3",
   "version": "3.7.4"
  }
 },
 "nbformat": 4,
 "nbformat_minor": 2
}
